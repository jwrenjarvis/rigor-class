{
  "nbformat": 4,
  "nbformat_minor": 0,
  "metadata": {
    "colab": {
      "provenance": []
    },
    "kernelspec": {
      "name": "python3",
      "display_name": "Python 3"
    },
    "language_info": {
      "name": "python"
    }
  },
  "cells": [
    {
      "cell_type": "code",
      "execution_count": 2,
      "metadata": {
        "colab": {
          "base_uri": "https://localhost:8080/"
        },
        "id": "KyxgWYbJk7Fw",
        "outputId": "97995d50-ca0f-4b55-f11f-de1d534ab883"
      },
      "outputs": [
        {
          "output_type": "stream",
          "name": "stdout",
          "text": [
            "2023-10-31\n"
          ]
        }
      ],
      "source": [
        "# print todays date\n",
        "from datetime import date\n",
        "\n",
        "print(date.today())"
      ]
    },
    {
      "cell_type": "code",
      "source": [
        "# arithmetic operation\n",
        "4*4"
      ],
      "metadata": {
        "colab": {
          "base_uri": "https://localhost:8080/"
        },
        "id": "WQp3khC3lZoO",
        "outputId": "18ca3980-231e-4164-b17c-6c04dd92d0bd"
      },
      "execution_count": 3,
      "outputs": [
        {
          "output_type": "execute_result",
          "data": {
            "text/plain": [
              "16"
            ]
          },
          "metadata": {},
          "execution_count": 3
        }
      ]
    },
    {
      "cell_type": "markdown",
      "source": [
        "Using github repositories is a very helpful tool for computational reproducability. I think it's most useful for version control and code sharing/availability. The github space allows not only you personally to edit your scripts and keeps track of changes you made but it also allows for others to edit your scripts later on and make any adjustments, where you can control what gets pushed to the main code. It's super important in data sharing so you make sure that everyone is using the same version, or keeping track of bugs that have been fixed that your labmates or colaborators may not have explicitly said. Code preservation is imperative for reproducing analysis, its one thing to share data but to share your step by step process will help other get to your results. In neuroimaging specifically, one needs to be explicit about their processing pipeline because differeent piplines can lead to different results. Posting your code on github provides transparency and ability to communicate with those who created the code so that all can be on the same page regarding steps taken for the protocl."
      ],
      "metadata": {
        "id": "USYH6aLOluf8"
      }
    }
  ]
}